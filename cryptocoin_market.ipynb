{
 "cells": [
  {
   "cell_type": "markdown",
   "metadata": {},
   "source": [
    "## Summary\n",
    "\n",
    "This projects explores the crypto-currency-market using the <a href=\"https://coinmarketcap.com\">API of coinmarket</a>\n",
    "and focuses on market capitalization and volatitility."
   ]
  },
  {
   "cell_type": "markdown",
   "metadata": {},
   "source": [
    "## Import packages"
   ]
  },
  {
   "cell_type": "code",
   "execution_count": 1,
   "metadata": {},
   "outputs": [],
   "source": [
    "\n",
    "import pandas as pd\n",
    "import matplotlib.pyplot as plt\n",
    "%matplotlib inline\n",
    "import seaborn as sns\n",
    "import numpy as np"
   ]
  },
  {
   "cell_type": "markdown",
   "metadata": {},
   "source": [
    "## Import data"
   ]
  },
  {
   "cell_type": "code",
   "execution_count": 2,
   "metadata": {},
   "outputs": [],
   "source": [
    "current_coin = pd.read_json(\"https://api.coinmarketcap.com/v1/ticker/\")"
   ]
  },
  {
   "cell_type": "code",
   "execution_count": 3,
   "metadata": {},
   "outputs": [],
   "source": [
    "# If going for reproducibility \n",
    "current_coin.to_csv(\"current_coin\", sep=',', encoding='utf-8')"
   ]
  },
  {
   "cell_type": "markdown",
   "metadata": {},
   "source": [
    "## Explore & clean the data"
   ]
  },
  {
   "cell_type": "code",
   "execution_count": 4,
   "metadata": {},
   "outputs": [
    {
     "data": {
      "text/plain": [
       "(100, 15)"
      ]
     },
     "execution_count": 4,
     "metadata": {},
     "output_type": "execute_result"
    }
   ],
   "source": [
    "current_coin.shape"
   ]
  },
  {
   "cell_type": "code",
   "execution_count": 5,
   "metadata": {},
   "outputs": [
    {
     "data": {
      "text/plain": [
       "Index(['24h_volume_usd', 'available_supply', 'id', 'last_updated',\n",
       "       'market_cap_usd', 'max_supply', 'name', 'percent_change_1h',\n",
       "       'percent_change_24h', 'percent_change_7d', 'price_btc', 'price_usd',\n",
       "       'rank', 'symbol', 'total_supply'],\n",
       "      dtype='object')"
      ]
     },
     "execution_count": 5,
     "metadata": {},
     "output_type": "execute_result"
    }
   ],
   "source": [
    "current_coin.columns"
   ]
  },
  {
   "cell_type": "code",
   "execution_count": 6,
   "metadata": {},
   "outputs": [
    {
     "data": {
      "text/plain": [
       "RangeIndex(start=0, stop=100, step=1)"
      ]
     },
     "execution_count": 6,
     "metadata": {},
     "output_type": "execute_result"
    }
   ],
   "source": [
    "current_coin.index"
   ]
  },
  {
   "cell_type": "code",
   "execution_count": 7,
   "metadata": {},
   "outputs": [
    {
     "name": "stdout",
     "output_type": "stream",
     "text": [
      "<class 'pandas.core.frame.DataFrame'>\n",
      "RangeIndex: 100 entries, 0 to 99\n",
      "Data columns (total 15 columns):\n",
      "24h_volume_usd        100 non-null float64\n",
      "available_supply      100 non-null int64\n",
      "id                    100 non-null object\n",
      "last_updated          100 non-null int64\n",
      "market_cap_usd        100 non-null int64\n",
      "max_supply            33 non-null float64\n",
      "name                  100 non-null object\n",
      "percent_change_1h     100 non-null float64\n",
      "percent_change_24h    100 non-null float64\n",
      "percent_change_7d     100 non-null float64\n",
      "price_btc             100 non-null float64\n",
      "price_usd             100 non-null float64\n",
      "rank                  100 non-null int64\n",
      "symbol                100 non-null object\n",
      "total_supply          100 non-null int64\n",
      "dtypes: float64(7), int64(5), object(3)\n",
      "memory usage: 11.8+ KB\n"
     ]
    }
   ],
   "source": [
    "current_coin.info()"
   ]
  },
  {
   "cell_type": "code",
   "execution_count": 8,
   "metadata": {
    "scrolled": true
   },
   "outputs": [
    {
     "data": {
      "text/html": [
       "<div>\n",
       "<style>\n",
       "    .dataframe thead tr:only-child th {\n",
       "        text-align: right;\n",
       "    }\n",
       "\n",
       "    .dataframe thead th {\n",
       "        text-align: left;\n",
       "    }\n",
       "\n",
       "    .dataframe tbody tr th {\n",
       "        vertical-align: top;\n",
       "    }\n",
       "</style>\n",
       "<table border=\"1\" class=\"dataframe\">\n",
       "  <thead>\n",
       "    <tr style=\"text-align: right;\">\n",
       "      <th></th>\n",
       "      <th>24h_volume_usd</th>\n",
       "      <th>available_supply</th>\n",
       "      <th>last_updated</th>\n",
       "      <th>market_cap_usd</th>\n",
       "      <th>max_supply</th>\n",
       "      <th>percent_change_1h</th>\n",
       "      <th>percent_change_24h</th>\n",
       "      <th>percent_change_7d</th>\n",
       "      <th>price_btc</th>\n",
       "      <th>price_usd</th>\n",
       "      <th>rank</th>\n",
       "      <th>total_supply</th>\n",
       "    </tr>\n",
       "  </thead>\n",
       "  <tbody>\n",
       "    <tr>\n",
       "      <th>count</th>\n",
       "      <td>1.000000e+02</td>\n",
       "      <td>1.000000e+02</td>\n",
       "      <td>1.000000e+02</td>\n",
       "      <td>1.000000e+02</td>\n",
       "      <td>3.300000e+01</td>\n",
       "      <td>100.000000</td>\n",
       "      <td>100.000000</td>\n",
       "      <td>100.000000</td>\n",
       "      <td>1.000000e+02</td>\n",
       "      <td>100.000000</td>\n",
       "      <td>100.000000</td>\n",
       "      <td>1.000000e+02</td>\n",
       "    </tr>\n",
       "    <tr>\n",
       "      <th>mean</th>\n",
       "      <td>6.937778e+08</td>\n",
       "      <td>1.327601e+10</td>\n",
       "      <td>1.559570e+09</td>\n",
       "      <td>2.619185e+09</td>\n",
       "      <td>1.214162e+10</td>\n",
       "      <td>-0.639800</td>\n",
       "      <td>-2.016800</td>\n",
       "      <td>4.702700</td>\n",
       "      <td>1.456746e-02</td>\n",
       "      <td>123.778346</td>\n",
       "      <td>50.500000</td>\n",
       "      <td>2.576883e+10</td>\n",
       "    </tr>\n",
       "    <tr>\n",
       "      <th>std</th>\n",
       "      <td>3.001543e+09</td>\n",
       "      <td>4.117282e+10</td>\n",
       "      <td>4.365834e+00</td>\n",
       "      <td>1.538772e+10</td>\n",
       "      <td>3.638793e+10</td>\n",
       "      <td>0.696138</td>\n",
       "      <td>4.656463</td>\n",
       "      <td>21.245095</td>\n",
       "      <td>1.012120e-01</td>\n",
       "      <td>860.836923</td>\n",
       "      <td>29.011492</td>\n",
       "      <td>1.067247e+11</td>\n",
       "    </tr>\n",
       "    <tr>\n",
       "      <th>min</th>\n",
       "      <td>1.030262e+05</td>\n",
       "      <td>8.668600e+04</td>\n",
       "      <td>1.559570e+09</td>\n",
       "      <td>5.840884e+07</td>\n",
       "      <td>1.000000e+06</td>\n",
       "      <td>-2.570000</td>\n",
       "      <td>-9.600000</td>\n",
       "      <td>-15.250000</td>\n",
       "      <td>1.200000e-07</td>\n",
       "      <td>0.000992</td>\n",
       "      <td>1.000000</td>\n",
       "      <td>1.000000e+05</td>\n",
       "    </tr>\n",
       "    <tr>\n",
       "      <th>25%</th>\n",
       "      <td>4.108392e+06</td>\n",
       "      <td>6.554726e+07</td>\n",
       "      <td>1.559570e+09</td>\n",
       "      <td>9.457032e+07</td>\n",
       "      <td>8.400000e+07</td>\n",
       "      <td>-1.070000</td>\n",
       "      <td>-3.907500</td>\n",
       "      <td>-4.865000</td>\n",
       "      <td>9.307500e-06</td>\n",
       "      <td>0.078902</td>\n",
       "      <td>25.750000</td>\n",
       "      <td>9.993113e+07</td>\n",
       "    </tr>\n",
       "    <tr>\n",
       "      <th>50%</th>\n",
       "      <td>2.101416e+07</td>\n",
       "      <td>3.421574e+08</td>\n",
       "      <td>1.559570e+09</td>\n",
       "      <td>1.774038e+08</td>\n",
       "      <td>2.000000e+08</td>\n",
       "      <td>-0.655000</td>\n",
       "      <td>-2.820000</td>\n",
       "      <td>-0.780000</td>\n",
       "      <td>9.270000e-05</td>\n",
       "      <td>0.785776</td>\n",
       "      <td>50.500000</td>\n",
       "      <td>4.685012e+08</td>\n",
       "    </tr>\n",
       "    <tr>\n",
       "      <th>75%</th>\n",
       "      <td>9.321314e+07</td>\n",
       "      <td>1.917515e+09</td>\n",
       "      <td>1.559570e+09</td>\n",
       "      <td>4.605674e+08</td>\n",
       "      <td>1.000000e+09</td>\n",
       "      <td>-0.380000</td>\n",
       "      <td>-1.192500</td>\n",
       "      <td>7.662500</td>\n",
       "      <td>3.781700e-04</td>\n",
       "      <td>3.205613</td>\n",
       "      <td>75.250000</td>\n",
       "      <td>3.522407e+09</td>\n",
       "    </tr>\n",
       "    <tr>\n",
       "      <th>max</th>\n",
       "      <td>2.036243e+10</td>\n",
       "      <td>2.375506e+11</td>\n",
       "      <td>1.559570e+09</td>\n",
       "      <td>1.508820e+11</td>\n",
       "      <td>1.844700e+11</td>\n",
       "      <td>2.030000</td>\n",
       "      <td>24.610000</td>\n",
       "      <td>153.990000</td>\n",
       "      <td>1.000000e+00</td>\n",
       "      <td>8506.115060</td>\n",
       "      <td>100.000000</td>\n",
       "      <td>9.900000e+11</td>\n",
       "    </tr>\n",
       "  </tbody>\n",
       "</table>\n",
       "</div>"
      ],
      "text/plain": [
       "       24h_volume_usd  available_supply  last_updated  market_cap_usd  \\\n",
       "count    1.000000e+02      1.000000e+02  1.000000e+02    1.000000e+02   \n",
       "mean     6.937778e+08      1.327601e+10  1.559570e+09    2.619185e+09   \n",
       "std      3.001543e+09      4.117282e+10  4.365834e+00    1.538772e+10   \n",
       "min      1.030262e+05      8.668600e+04  1.559570e+09    5.840884e+07   \n",
       "25%      4.108392e+06      6.554726e+07  1.559570e+09    9.457032e+07   \n",
       "50%      2.101416e+07      3.421574e+08  1.559570e+09    1.774038e+08   \n",
       "75%      9.321314e+07      1.917515e+09  1.559570e+09    4.605674e+08   \n",
       "max      2.036243e+10      2.375506e+11  1.559570e+09    1.508820e+11   \n",
       "\n",
       "         max_supply  percent_change_1h  percent_change_24h  percent_change_7d  \\\n",
       "count  3.300000e+01         100.000000          100.000000         100.000000   \n",
       "mean   1.214162e+10          -0.639800           -2.016800           4.702700   \n",
       "std    3.638793e+10           0.696138            4.656463          21.245095   \n",
       "min    1.000000e+06          -2.570000           -9.600000         -15.250000   \n",
       "25%    8.400000e+07          -1.070000           -3.907500          -4.865000   \n",
       "50%    2.000000e+08          -0.655000           -2.820000          -0.780000   \n",
       "75%    1.000000e+09          -0.380000           -1.192500           7.662500   \n",
       "max    1.844700e+11           2.030000           24.610000         153.990000   \n",
       "\n",
       "          price_btc    price_usd        rank  total_supply  \n",
       "count  1.000000e+02   100.000000  100.000000  1.000000e+02  \n",
       "mean   1.456746e-02   123.778346   50.500000  2.576883e+10  \n",
       "std    1.012120e-01   860.836923   29.011492  1.067247e+11  \n",
       "min    1.200000e-07     0.000992    1.000000  1.000000e+05  \n",
       "25%    9.307500e-06     0.078902   25.750000  9.993113e+07  \n",
       "50%    9.270000e-05     0.785776   50.500000  4.685012e+08  \n",
       "75%    3.781700e-04     3.205613   75.250000  3.522407e+09  \n",
       "max    1.000000e+00  8506.115060  100.000000  9.900000e+11  "
      ]
     },
     "execution_count": 8,
     "metadata": {},
     "output_type": "execute_result"
    }
   ],
   "source": [
    "current_coin.describe()"
   ]
  },
  {
   "cell_type": "code",
   "execution_count": 9,
   "metadata": {},
   "outputs": [
    {
     "data": {
      "text/html": [
       "<div>\n",
       "<style>\n",
       "    .dataframe thead tr:only-child th {\n",
       "        text-align: right;\n",
       "    }\n",
       "\n",
       "    .dataframe thead th {\n",
       "        text-align: left;\n",
       "    }\n",
       "\n",
       "    .dataframe tbody tr th {\n",
       "        vertical-align: top;\n",
       "    }\n",
       "</style>\n",
       "<table border=\"1\" class=\"dataframe\">\n",
       "  <thead>\n",
       "    <tr style=\"text-align: right;\">\n",
       "      <th></th>\n",
       "      <th>24h_volume_usd</th>\n",
       "      <th>available_supply</th>\n",
       "      <th>id</th>\n",
       "      <th>last_updated</th>\n",
       "      <th>market_cap_usd</th>\n",
       "      <th>max_supply</th>\n",
       "      <th>name</th>\n",
       "      <th>percent_change_1h</th>\n",
       "      <th>percent_change_24h</th>\n",
       "      <th>percent_change_7d</th>\n",
       "      <th>price_btc</th>\n",
       "      <th>price_usd</th>\n",
       "      <th>rank</th>\n",
       "      <th>symbol</th>\n",
       "      <th>total_supply</th>\n",
       "    </tr>\n",
       "  </thead>\n",
       "  <tbody>\n",
       "    <tr>\n",
       "      <th>0</th>\n",
       "      <td>2.036243e+10</td>\n",
       "      <td>17738062</td>\n",
       "      <td>bitcoin</td>\n",
       "      <td>1559570190</td>\n",
       "      <td>150881996310</td>\n",
       "      <td>2.100000e+07</td>\n",
       "      <td>Bitcoin</td>\n",
       "      <td>-0.58</td>\n",
       "      <td>-2.57</td>\n",
       "      <td>-2.89</td>\n",
       "      <td>1.000000</td>\n",
       "      <td>8506.115060</td>\n",
       "      <td>1</td>\n",
       "      <td>BTC</td>\n",
       "      <td>17738062</td>\n",
       "    </tr>\n",
       "    <tr>\n",
       "      <th>1</th>\n",
       "      <td>8.862492e+09</td>\n",
       "      <td>106337344</td>\n",
       "      <td>ethereum</td>\n",
       "      <td>1559570242</td>\n",
       "      <td>27951621202</td>\n",
       "      <td>NaN</td>\n",
       "      <td>Ethereum</td>\n",
       "      <td>-0.56</td>\n",
       "      <td>-2.71</td>\n",
       "      <td>-2.24</td>\n",
       "      <td>0.031009</td>\n",
       "      <td>262.857996</td>\n",
       "      <td>2</td>\n",
       "      <td>ETH</td>\n",
       "      <td>106337344</td>\n",
       "    </tr>\n",
       "    <tr>\n",
       "      <th>2</th>\n",
       "      <td>2.321487e+09</td>\n",
       "      <td>42181995112</td>\n",
       "      <td>ripple</td>\n",
       "      <td>1559570225</td>\n",
       "      <td>18672945928</td>\n",
       "      <td>1.000000e+11</td>\n",
       "      <td>XRP</td>\n",
       "      <td>-1.12</td>\n",
       "      <td>0.36</td>\n",
       "      <td>6.49</td>\n",
       "      <td>0.000052</td>\n",
       "      <td>0.442676</td>\n",
       "      <td>3</td>\n",
       "      <td>XRP</td>\n",
       "      <td>99991617212</td>\n",
       "    </tr>\n",
       "    <tr>\n",
       "      <th>3</th>\n",
       "      <td>1.779191e+09</td>\n",
       "      <td>17817688</td>\n",
       "      <td>bitcoin-cash</td>\n",
       "      <td>1559570225</td>\n",
       "      <td>7657254225</td>\n",
       "      <td>2.100000e+07</td>\n",
       "      <td>Bitcoin Cash</td>\n",
       "      <td>-0.27</td>\n",
       "      <td>-3.39</td>\n",
       "      <td>-1.26</td>\n",
       "      <td>0.050698</td>\n",
       "      <td>429.755782</td>\n",
       "      <td>4</td>\n",
       "      <td>BCH</td>\n",
       "      <td>17817688</td>\n",
       "    </tr>\n",
       "    <tr>\n",
       "      <th>4</th>\n",
       "      <td>3.918325e+09</td>\n",
       "      <td>62060076</td>\n",
       "      <td>litecoin</td>\n",
       "      <td>1559570225</td>\n",
       "      <td>6950500679</td>\n",
       "      <td>8.400000e+07</td>\n",
       "      <td>Litecoin</td>\n",
       "      <td>-0.76</td>\n",
       "      <td>-2.47</td>\n",
       "      <td>-2.22</td>\n",
       "      <td>0.013212</td>\n",
       "      <td>111.996328</td>\n",
       "      <td>5</td>\n",
       "      <td>LTC</td>\n",
       "      <td>62060076</td>\n",
       "    </tr>\n",
       "  </tbody>\n",
       "</table>\n",
       "</div>"
      ],
      "text/plain": [
       "   24h_volume_usd  available_supply            id  last_updated  \\\n",
       "0    2.036243e+10          17738062       bitcoin    1559570190   \n",
       "1    8.862492e+09         106337344      ethereum    1559570242   \n",
       "2    2.321487e+09       42181995112        ripple    1559570225   \n",
       "3    1.779191e+09          17817688  bitcoin-cash    1559570225   \n",
       "4    3.918325e+09          62060076      litecoin    1559570225   \n",
       "\n",
       "   market_cap_usd    max_supply          name  percent_change_1h  \\\n",
       "0    150881996310  2.100000e+07       Bitcoin              -0.58   \n",
       "1     27951621202           NaN      Ethereum              -0.56   \n",
       "2     18672945928  1.000000e+11           XRP              -1.12   \n",
       "3      7657254225  2.100000e+07  Bitcoin Cash              -0.27   \n",
       "4      6950500679  8.400000e+07      Litecoin              -0.76   \n",
       "\n",
       "   percent_change_24h  percent_change_7d  price_btc    price_usd  rank symbol  \\\n",
       "0               -2.57              -2.89   1.000000  8506.115060     1    BTC   \n",
       "1               -2.71              -2.24   0.031009   262.857996     2    ETH   \n",
       "2                0.36               6.49   0.000052     0.442676     3    XRP   \n",
       "3               -3.39              -1.26   0.050698   429.755782     4    BCH   \n",
       "4               -2.47              -2.22   0.013212   111.996328     5    LTC   \n",
       "\n",
       "   total_supply  \n",
       "0      17738062  \n",
       "1     106337344  \n",
       "2   99991617212  \n",
       "3      17817688  \n",
       "4      62060076  "
      ]
     },
     "execution_count": 9,
     "metadata": {},
     "output_type": "execute_result"
    }
   ],
   "source": [
    "current_coin.head()"
   ]
  },
  {
   "cell_type": "code",
   "execution_count": 10,
   "metadata": {},
   "outputs": [
    {
     "data": {
      "text/html": [
       "<div>\n",
       "<style>\n",
       "    .dataframe thead tr:only-child th {\n",
       "        text-align: right;\n",
       "    }\n",
       "\n",
       "    .dataframe thead th {\n",
       "        text-align: left;\n",
       "    }\n",
       "\n",
       "    .dataframe tbody tr th {\n",
       "        vertical-align: top;\n",
       "    }\n",
       "</style>\n",
       "<table border=\"1\" class=\"dataframe\">\n",
       "  <thead>\n",
       "    <tr style=\"text-align: right;\">\n",
       "      <th></th>\n",
       "      <th>24h_volume_usd</th>\n",
       "      <th>available_supply</th>\n",
       "      <th>id</th>\n",
       "      <th>last_updated</th>\n",
       "      <th>market_cap_usd</th>\n",
       "      <th>max_supply</th>\n",
       "      <th>name</th>\n",
       "      <th>percent_change_1h</th>\n",
       "      <th>percent_change_24h</th>\n",
       "      <th>percent_change_7d</th>\n",
       "      <th>price_btc</th>\n",
       "      <th>price_usd</th>\n",
       "      <th>rank</th>\n",
       "      <th>symbol</th>\n",
       "      <th>total_supply</th>\n",
       "    </tr>\n",
       "  </thead>\n",
       "  <tbody>\n",
       "    <tr>\n",
       "      <th>95</th>\n",
       "      <td>3.861742e+07</td>\n",
       "      <td>942467259</td>\n",
       "      <td>loopring</td>\n",
       "      <td>1559570222</td>\n",
       "      <td>62367509</td>\n",
       "      <td>NaN</td>\n",
       "      <td>Loopring</td>\n",
       "      <td>-0.38</td>\n",
       "      <td>-1.86</td>\n",
       "      <td>-6.02</td>\n",
       "      <td>0.000008</td>\n",
       "      <td>0.066175</td>\n",
       "      <td>96</td>\n",
       "      <td>LRC</td>\n",
       "      <td>1375076043</td>\n",
       "    </tr>\n",
       "    <tr>\n",
       "      <th>96</th>\n",
       "      <td>2.300864e+07</td>\n",
       "      <td>380104462</td>\n",
       "      <td>latoken</td>\n",
       "      <td>1559570222</td>\n",
       "      <td>62332257</td>\n",
       "      <td>1.000000e+09</td>\n",
       "      <td>LATOKEN</td>\n",
       "      <td>-0.58</td>\n",
       "      <td>-3.52</td>\n",
       "      <td>7.65</td>\n",
       "      <td>0.000019</td>\n",
       "      <td>0.163987</td>\n",
       "      <td>97</td>\n",
       "      <td>LA</td>\n",
       "      <td>400000000</td>\n",
       "    </tr>\n",
       "    <tr>\n",
       "      <th>97</th>\n",
       "      <td>1.215651e+06</td>\n",
       "      <td>484450000</td>\n",
       "      <td>revain</td>\n",
       "      <td>1559570223</td>\n",
       "      <td>59870651</td>\n",
       "      <td>4.844500e+08</td>\n",
       "      <td>Revain</td>\n",
       "      <td>-1.64</td>\n",
       "      <td>-4.63</td>\n",
       "      <td>-6.09</td>\n",
       "      <td>0.000015</td>\n",
       "      <td>0.123585</td>\n",
       "      <td>98</td>\n",
       "      <td>R</td>\n",
       "      <td>484450000</td>\n",
       "    </tr>\n",
       "    <tr>\n",
       "      <th>98</th>\n",
       "      <td>2.029104e+07</td>\n",
       "      <td>1050141509</td>\n",
       "      <td>decentraland</td>\n",
       "      <td>1559570222</td>\n",
       "      <td>59202912</td>\n",
       "      <td>NaN</td>\n",
       "      <td>Decentraland</td>\n",
       "      <td>-1.02</td>\n",
       "      <td>-3.24</td>\n",
       "      <td>-9.20</td>\n",
       "      <td>0.000007</td>\n",
       "      <td>0.056376</td>\n",
       "      <td>99</td>\n",
       "      <td>MANA</td>\n",
       "      <td>2644403343</td>\n",
       "    </tr>\n",
       "    <tr>\n",
       "      <th>99</th>\n",
       "      <td>8.377418e+06</td>\n",
       "      <td>1635091511</td>\n",
       "      <td>orbs</td>\n",
       "      <td>1559570227</td>\n",
       "      <td>58408839</td>\n",
       "      <td>NaN</td>\n",
       "      <td>Orbs</td>\n",
       "      <td>-0.63</td>\n",
       "      <td>0.45</td>\n",
       "      <td>-4.91</td>\n",
       "      <td>0.000004</td>\n",
       "      <td>0.035722</td>\n",
       "      <td>100</td>\n",
       "      <td>ORBS</td>\n",
       "      <td>10000000000</td>\n",
       "    </tr>\n",
       "  </tbody>\n",
       "</table>\n",
       "</div>"
      ],
      "text/plain": [
       "    24h_volume_usd  available_supply            id  last_updated  \\\n",
       "95    3.861742e+07         942467259      loopring    1559570222   \n",
       "96    2.300864e+07         380104462       latoken    1559570222   \n",
       "97    1.215651e+06         484450000        revain    1559570223   \n",
       "98    2.029104e+07        1050141509  decentraland    1559570222   \n",
       "99    8.377418e+06        1635091511          orbs    1559570227   \n",
       "\n",
       "    market_cap_usd    max_supply          name  percent_change_1h  \\\n",
       "95        62367509           NaN      Loopring              -0.38   \n",
       "96        62332257  1.000000e+09       LATOKEN              -0.58   \n",
       "97        59870651  4.844500e+08        Revain              -1.64   \n",
       "98        59202912           NaN  Decentraland              -1.02   \n",
       "99        58408839           NaN          Orbs              -0.63   \n",
       "\n",
       "    percent_change_24h  percent_change_7d  price_btc  price_usd  rank symbol  \\\n",
       "95               -1.86              -6.02   0.000008   0.066175    96    LRC   \n",
       "96               -3.52               7.65   0.000019   0.163987    97     LA   \n",
       "97               -4.63              -6.09   0.000015   0.123585    98      R   \n",
       "98               -3.24              -9.20   0.000007   0.056376    99   MANA   \n",
       "99                0.45              -4.91   0.000004   0.035722   100   ORBS   \n",
       "\n",
       "    total_supply  \n",
       "95    1375076043  \n",
       "96     400000000  \n",
       "97     484450000  \n",
       "98    2644403343  \n",
       "99   10000000000  "
      ]
     },
     "execution_count": 10,
     "metadata": {},
     "output_type": "execute_result"
    }
   ],
   "source": [
    "current_coin.tail()"
   ]
  },
  {
   "cell_type": "code",
   "execution_count": 11,
   "metadata": {
    "scrolled": true
   },
   "outputs": [
    {
     "data": {
      "text/plain": [
       "24h_volume_usd         0\n",
       "available_supply       0\n",
       "id                     0\n",
       "last_updated           0\n",
       "market_cap_usd         0\n",
       "max_supply            67\n",
       "name                   0\n",
       "percent_change_1h      0\n",
       "percent_change_24h     0\n",
       "percent_change_7d      0\n",
       "price_btc              0\n",
       "price_usd              0\n",
       "rank                   0\n",
       "symbol                 0\n",
       "total_supply           0\n",
       "dtype: int64"
      ]
     },
     "execution_count": 11,
     "metadata": {},
     "output_type": "execute_result"
    }
   ],
   "source": [
    "current_coin.isnull().sum()"
   ]
  },
  {
   "cell_type": "code",
   "execution_count": 12,
   "metadata": {},
   "outputs": [
    {
     "data": {
      "text/plain": [
       "Index(['24h_volume_usd', 'available_supply', 'id', 'last_updated',\n",
       "       'market_cap_usd', 'name', 'percent_change_1h', 'percent_change_24h',\n",
       "       'percent_change_7d', 'price_btc', 'price_usd', 'rank', 'symbol',\n",
       "       'total_supply'],\n",
       "      dtype='object')"
      ]
     },
     "execution_count": 12,
     "metadata": {},
     "output_type": "execute_result"
    }
   ],
   "source": [
    "# Drop max_supply because it is not necessary here\n",
    "current_coin=current_coin.drop(\"max_supply\", axis=1).copy()\n",
    "current_coin.columns"
   ]
  },
  {
   "cell_type": "code",
   "execution_count": 13,
   "metadata": {},
   "outputs": [
    {
     "data": {
      "text/html": [
       "<div>\n",
       "<style>\n",
       "    .dataframe thead tr:only-child th {\n",
       "        text-align: right;\n",
       "    }\n",
       "\n",
       "    .dataframe thead th {\n",
       "        text-align: left;\n",
       "    }\n",
       "\n",
       "    .dataframe tbody tr th {\n",
       "        vertical-align: top;\n",
       "    }\n",
       "</style>\n",
       "<table border=\"1\" class=\"dataframe\">\n",
       "  <thead>\n",
       "    <tr style=\"text-align: right;\">\n",
       "      <th></th>\n",
       "      <th>id</th>\n",
       "      <th>market_cap_usd</th>\n",
       "    </tr>\n",
       "  </thead>\n",
       "  <tbody>\n",
       "    <tr>\n",
       "      <th>0</th>\n",
       "      <td>bitcoin</td>\n",
       "      <td>150881996310</td>\n",
       "    </tr>\n",
       "    <tr>\n",
       "      <th>1</th>\n",
       "      <td>ethereum</td>\n",
       "      <td>27951621202</td>\n",
       "    </tr>\n",
       "    <tr>\n",
       "      <th>2</th>\n",
       "      <td>ripple</td>\n",
       "      <td>18672945928</td>\n",
       "    </tr>\n",
       "    <tr>\n",
       "      <th>3</th>\n",
       "      <td>bitcoin-cash</td>\n",
       "      <td>7657254225</td>\n",
       "    </tr>\n",
       "    <tr>\n",
       "      <th>4</th>\n",
       "      <td>litecoin</td>\n",
       "      <td>6950500679</td>\n",
       "    </tr>\n",
       "  </tbody>\n",
       "</table>\n",
       "</div>"
      ],
      "text/plain": [
       "             id  market_cap_usd\n",
       "0       bitcoin    150881996310\n",
       "1      ethereum     27951621202\n",
       "2        ripple     18672945928\n",
       "3  bitcoin-cash      7657254225\n",
       "4      litecoin      6950500679"
      ]
     },
     "execution_count": 13,
     "metadata": {},
     "output_type": "execute_result"
    }
   ],
   "source": [
    "current_coin_2 = current_coin.loc[:, ['id', 'market_cap_usd']]\n",
    "current_coin_2.head()"
   ]
  },
  {
   "cell_type": "code",
   "execution_count": 14,
   "metadata": {},
   "outputs": [
    {
     "data": {
      "text/plain": [
       "id                100\n",
       "market_cap_usd    100\n",
       "dtype: int64"
      ]
     },
     "execution_count": 14,
     "metadata": {},
     "output_type": "execute_result"
    }
   ],
   "source": [
    "current_coin_2.count()"
   ]
  },
  {
   "cell_type": "code",
   "execution_count": 15,
   "metadata": {},
   "outputs": [
    {
     "data": {
      "text/plain": [
       "id                100\n",
       "market_cap_usd    100\n",
       "dtype: int64"
      ]
     },
     "execution_count": 15,
     "metadata": {},
     "output_type": "execute_result"
    }
   ],
   "source": [
    "market_capitalization_above_0 = current_coin_2.query(\"market_cap_usd > 0\" )\n",
    "current_coin_cap = market_capitalization_above_0\n",
    "current_coin_cap.count()"
   ]
  },
  {
   "cell_type": "code",
   "execution_count": 16,
   "metadata": {},
   "outputs": [
    {
     "data": {
      "text/plain": [
       "261918503689"
      ]
     },
     "execution_count": 16,
     "metadata": {},
     "output_type": "execute_result"
    }
   ],
   "source": [
    "total_market_cap = current_coin_cap['market_cap_usd'].sum()\n",
    "total_market_cap"
   ]
  },
  {
   "cell_type": "code",
   "execution_count": 17,
   "metadata": {},
   "outputs": [
    {
     "data": {
      "text/html": [
       "<div>\n",
       "<style>\n",
       "    .dataframe thead tr:only-child th {\n",
       "        text-align: right;\n",
       "    }\n",
       "\n",
       "    .dataframe thead th {\n",
       "        text-align: left;\n",
       "    }\n",
       "\n",
       "    .dataframe tbody tr th {\n",
       "        vertical-align: top;\n",
       "    }\n",
       "</style>\n",
       "<table border=\"1\" class=\"dataframe\">\n",
       "  <thead>\n",
       "    <tr style=\"text-align: right;\">\n",
       "      <th></th>\n",
       "      <th>id</th>\n",
       "      <th>market_cap_usd</th>\n",
       "      <th>%_total_cap</th>\n",
       "    </tr>\n",
       "  </thead>\n",
       "  <tbody>\n",
       "    <tr>\n",
       "      <th>0</th>\n",
       "      <td>orbs</td>\n",
       "      <td>58408839</td>\n",
       "      <td>0.022300</td>\n",
       "    </tr>\n",
       "    <tr>\n",
       "      <th>1</th>\n",
       "      <td>decentraland</td>\n",
       "      <td>59202912</td>\n",
       "      <td>0.022604</td>\n",
       "    </tr>\n",
       "    <tr>\n",
       "      <th>2</th>\n",
       "      <td>revain</td>\n",
       "      <td>59870651</td>\n",
       "      <td>0.022859</td>\n",
       "    </tr>\n",
       "    <tr>\n",
       "      <th>3</th>\n",
       "      <td>latoken</td>\n",
       "      <td>62332257</td>\n",
       "      <td>0.023798</td>\n",
       "    </tr>\n",
       "    <tr>\n",
       "      <th>4</th>\n",
       "      <td>loopring</td>\n",
       "      <td>62367509</td>\n",
       "      <td>0.023812</td>\n",
       "    </tr>\n",
       "    <tr>\n",
       "      <th>5</th>\n",
       "      <td>loom-network</td>\n",
       "      <td>62636183</td>\n",
       "      <td>0.023914</td>\n",
       "    </tr>\n",
       "    <tr>\n",
       "      <th>6</th>\n",
       "      <td>nash-exchange</td>\n",
       "      <td>64093001</td>\n",
       "      <td>0.024471</td>\n",
       "    </tr>\n",
       "    <tr>\n",
       "      <th>7</th>\n",
       "      <td>ark</td>\n",
       "      <td>67546569</td>\n",
       "      <td>0.025789</td>\n",
       "    </tr>\n",
       "    <tr>\n",
       "      <th>8</th>\n",
       "      <td>gxchain</td>\n",
       "      <td>67738063</td>\n",
       "      <td>0.025862</td>\n",
       "    </tr>\n",
       "    <tr>\n",
       "      <th>9</th>\n",
       "      <td>digixdao</td>\n",
       "      <td>69793436</td>\n",
       "      <td>0.026647</td>\n",
       "    </tr>\n",
       "  </tbody>\n",
       "</table>\n",
       "</div>"
      ],
      "text/plain": [
       "              id  market_cap_usd  %_total_cap\n",
       "0           orbs        58408839     0.022300\n",
       "1   decentraland        59202912     0.022604\n",
       "2         revain        59870651     0.022859\n",
       "3        latoken        62332257     0.023798\n",
       "4       loopring        62367509     0.023812\n",
       "5   loom-network        62636183     0.023914\n",
       "6  nash-exchange        64093001     0.024471\n",
       "7            ark        67546569     0.025789\n",
       "8        gxchain        67738063     0.025862\n",
       "9       digixdao        69793436     0.026647"
      ]
     },
     "execution_count": 17,
     "metadata": {},
     "output_type": "execute_result"
    }
   ],
   "source": [
    "# coins with lowest market capitalization\n",
    "ten_lowest_caps =current_coin_cap.sort_values(by=\"market_cap_usd\")[0:10].reset_index().drop(\"index\", axis=1)\n",
    "ten_lowest_caps['%_total_cap'] = (ten_lowest_caps[\"market_cap_usd\"]/total_market_cap)*100\n",
    "ten_lowest_caps"
   ]
  },
  {
   "cell_type": "markdown",
   "metadata": {},
   "source": [
    "### Coins with 5 lowest market cap"
   ]
  },
  {
   "cell_type": "code",
   "execution_count": 18,
   "metadata": {},
   "outputs": [
    {
     "data": {
      "image/png": "[encoded data removed]",
      "text/plain": [
       "<Figure size 1080x360 with 3 Axes>"
      ]
     },
     "metadata": {
      "needs_background": "light"
     },
     "output_type": "display_data"
    }
   ],
   "source": [
    "fig = plt.figure()\n",
    "\n",
    "ax_1 = fig.add_subplot(131)\n",
    "\n",
    "ten_lowest_caps.plot(x=\"id\", y='market_cap_usd', kind=\"bar\", legend=False, title=\"Coins with lowest market cap - absolute\", \n",
    "                     colormap=\"Paired\", figsize=(15,5),ax=ax_1)\n",
    "ax_2 = fig.add_subplot(132)\n",
    "\n",
    "ten_lowest_caps.plot(x=\"id\", y='%_total_cap', kind=\"bar\", legend=False, title=\"Coins with lowest market cap - %\", \n",
    "                     colormap=\"Accent\", figsize=(15,5),ax=ax_2)\n",
    "\n",
    "ax_3 = fig.add_subplot(133)\n",
    "ten_lowest_caps.plot(x=\"id\", y='market_cap_usd', kind=\"bar\", legend=False, title=\"Coins with lowest market cap - log scale\",  \n",
    "                     colormap=\"Set1\", figsize=(15,5), logy=True, ax=ax_3)\n",
    "\n",
    "plt.show()"
   ]
  },
  {
   "cell_type": "code",
   "execution_count": 19,
   "metadata": {},
   "outputs": [
    {
     "data": {
      "text/html": [
       "<div>\n",
       "<style>\n",
       "    .dataframe thead tr:only-child th {\n",
       "        text-align: right;\n",
       "    }\n",
       "\n",
       "    .dataframe thead th {\n",
       "        text-align: left;\n",
       "    }\n",
       "\n",
       "    .dataframe tbody tr th {\n",
       "        vertical-align: top;\n",
       "    }\n",
       "</style>\n",
       "<table border=\"1\" class=\"dataframe\">\n",
       "  <thead>\n",
       "    <tr style=\"text-align: right;\">\n",
       "      <th></th>\n",
       "      <th>id</th>\n",
       "      <th>market_cap_usd</th>\n",
       "      <th>%_total_cap</th>\n",
       "    </tr>\n",
       "  </thead>\n",
       "  <tbody>\n",
       "    <tr>\n",
       "      <th>0</th>\n",
       "      <td>bitcoin</td>\n",
       "      <td>150881996310</td>\n",
       "      <td>57.606467</td>\n",
       "    </tr>\n",
       "    <tr>\n",
       "      <th>1</th>\n",
       "      <td>ethereum</td>\n",
       "      <td>27951621202</td>\n",
       "      <td>10.671877</td>\n",
       "    </tr>\n",
       "    <tr>\n",
       "      <th>2</th>\n",
       "      <td>ripple</td>\n",
       "      <td>18672945928</td>\n",
       "      <td>7.129296</td>\n",
       "    </tr>\n",
       "    <tr>\n",
       "      <th>3</th>\n",
       "      <td>bitcoin-cash</td>\n",
       "      <td>7657254225</td>\n",
       "      <td>2.923525</td>\n",
       "    </tr>\n",
       "    <tr>\n",
       "      <th>4</th>\n",
       "      <td>litecoin</td>\n",
       "      <td>6950500679</td>\n",
       "      <td>2.653688</td>\n",
       "    </tr>\n",
       "    <tr>\n",
       "      <th>5</th>\n",
       "      <td>eos</td>\n",
       "      <td>6726520327</td>\n",
       "      <td>2.568173</td>\n",
       "    </tr>\n",
       "    <tr>\n",
       "      <th>6</th>\n",
       "      <td>binance-coin</td>\n",
       "      <td>4547254189</td>\n",
       "      <td>1.736133</td>\n",
       "    </tr>\n",
       "    <tr>\n",
       "      <th>7</th>\n",
       "      <td>bitcoin-sv</td>\n",
       "      <td>3925904470</td>\n",
       "      <td>1.498903</td>\n",
       "    </tr>\n",
       "    <tr>\n",
       "      <th>8</th>\n",
       "      <td>tether</td>\n",
       "      <td>3140437984</td>\n",
       "      <td>1.199013</td>\n",
       "    </tr>\n",
       "    <tr>\n",
       "      <th>9</th>\n",
       "      <td>stellar</td>\n",
       "      <td>2580710877</td>\n",
       "      <td>0.985311</td>\n",
       "    </tr>\n",
       "  </tbody>\n",
       "</table>\n",
       "</div>"
      ],
      "text/plain": [
       "             id  market_cap_usd  %_total_cap\n",
       "0       bitcoin    150881996310    57.606467\n",
       "1      ethereum     27951621202    10.671877\n",
       "2        ripple     18672945928     7.129296\n",
       "3  bitcoin-cash      7657254225     2.923525\n",
       "4      litecoin      6950500679     2.653688\n",
       "5           eos      6726520327     2.568173\n",
       "6  binance-coin      4547254189     1.736133\n",
       "7    bitcoin-sv      3925904470     1.498903\n",
       "8        tether      3140437984     1.199013\n",
       "9       stellar      2580710877     0.985311"
      ]
     },
     "execution_count": 19,
     "metadata": {},
     "output_type": "execute_result"
    }
   ],
   "source": [
    "top_ten_caps =current_coin_cap.sort_values(by=\"market_cap_usd\", ascending= False)[0:10].reset_index().drop(\"index\", axis=1)\n",
    "top_ten_caps['%_total_cap'] = (top_ten_caps[\"market_cap_usd\"]/total_market_cap)*100\n",
    "top_ten_caps"
   ]
  },
  {
   "cell_type": "markdown",
   "metadata": {},
   "source": [
    "### Coins with 5 highest market cap"
   ]
  },
  {
   "cell_type": "code",
   "execution_count": 20,
   "metadata": {},
   "outputs": [
    {
     "data": {
      "image/png": "[encoded data removed]",
      "text/plain": [
       "<Figure size 1080x360 with 3 Axes>"
      ]
     },
     "metadata": {
      "needs_background": "light"
     },
     "output_type": "display_data"
    }
   ],
   "source": [
    "fig = plt.figure()\n",
    "\n",
    "ax_1 = fig.add_subplot(131)\n",
    "\n",
    "top_ten_caps.plot(x=\"id\", y='market_cap_usd', kind=\"bar\", legend=False, title=\"Coins with highest market cap - absolute\", \n",
    "                     colormap=\"Paired\", figsize=(15,5),ax=ax_1)\n",
    "ax_2 = fig.add_subplot(132)\n",
    "\n",
    "top_ten_caps.plot(x=\"id\", y='%_total_cap', kind=\"bar\", legend=False, title=\"Coins with highest market cap - %\", \n",
    "                     colormap=\"Accent\", figsize=(15,5),ax=ax_2)\n",
    "\n",
    "ax_3 = fig.add_subplot(133)\n",
    "top_ten_caps.plot(x=\"id\", y='market_cap_usd', kind=\"bar\", legend=False, title=\"Coins with highest market cap - log scale\",  \n",
    "                     colormap=\"Set1\", figsize=(15,5), logy=True, ax=ax_3)\n",
    "\n",
    "plt.show()"
   ]
  },
  {
   "cell_type": "markdown",
   "metadata": {},
   "source": [
    "Bitcoin has the highest market share, followed by ethereum."
   ]
  },
  {
   "cell_type": "code",
   "execution_count": 21,
   "metadata": {},
   "outputs": [
    {
     "data": {
      "text/plain": [
       "percent_change_24h    0\n",
       "percent_change_7d     0\n",
       "dtype: int64"
      ]
     },
     "execution_count": 21,
     "metadata": {},
     "output_type": "execute_result"
    }
   ],
   "source": [
    "# volatility\n",
    "value_change = current_coin.loc[:, ['id', 'percent_change_24h', 'percent_change_7d']].set_index('id')\n",
    "value_change.isnull().sum()"
   ]
  },
  {
   "cell_type": "code",
   "execution_count": 22,
   "metadata": {},
   "outputs": [],
   "source": [
    "value_change_24 = value_change.sort_values(by=\"percent_change_24h\", ascending=True)\n",
    "value_change_7 = value_change.sort_values(by=\"percent_change_7d\", ascending=True)"
   ]
  },
  {
   "cell_type": "code",
   "execution_count": 23,
   "metadata": {},
   "outputs": [
    {
     "data": {
      "text/plain": [
       "id\n",
       "aion         -9.60\n",
       "tron         -8.35\n",
       "monacoin     -7.74\n",
       "bittorrent   -6.75\n",
       "tezos        -6.45\n",
       "Name: percent_change_24h, dtype: float64"
      ]
     },
     "execution_count": 23,
     "metadata": {},
     "output_type": "execute_result"
    }
   ],
   "source": [
    "top_five_decrease_24 = value_change_24.iloc[0:5,0]\n",
    "top_five_decrease_24"
   ]
  },
  {
   "cell_type": "markdown",
   "metadata": {},
   "source": [
    "Coins with the highest negative change or decrease in value."
   ]
  },
  {
   "cell_type": "code",
   "execution_count": 24,
   "metadata": {},
   "outputs": [
    {
     "data": {
      "text/plain": [
       "id\n",
       "ethereum-classic     3.44\n",
       "aurora               4.39\n",
       "cosmos              12.43\n",
       "bitcoin-sv          15.53\n",
       "metaverse           15.64\n",
       "Name: percent_change_24h, dtype: float64"
      ]
     },
     "execution_count": 24,
     "metadata": {},
     "output_type": "execute_result"
    }
   ],
   "source": [
    "top_five_increase_24 = value_change_24.iloc[-6:-1,0]\n",
    "top_five_increase_24"
   ]
  },
  {
   "cell_type": "markdown",
   "metadata": {},
   "source": [
    "Coins with the highest positive change or increase in value."
   ]
  },
  {
   "cell_type": "code",
   "execution_count": 25,
   "metadata": {},
   "outputs": [
    {
     "data": {
      "text/plain": [
       "id\n",
       "chainlink      -15.25\n",
       "aelf           -13.70\n",
       "maidsafecoin   -13.06\n",
       "tezos          -12.44\n",
       "mixin          -12.32\n",
       "Name: percent_change_7d, dtype: float64"
      ]
     },
     "execution_count": 25,
     "metadata": {},
     "output_type": "execute_result"
    }
   ],
   "source": [
    "top_five_decrease_7 = value_change_7.iloc[0:5,1]\n",
    "top_five_decrease_7"
   ]
  },
  {
   "cell_type": "code",
   "execution_count": 26,
   "metadata": {},
   "outputs": [
    {
     "data": {
      "text/plain": [
       "id\n",
       "metaverse        33.88\n",
       "ravencoin        35.37\n",
       "cosmos           43.72\n",
       "maximine-coin    61.42\n",
       "bitcoin-sv       89.55\n",
       "Name: percent_change_7d, dtype: float64"
      ]
     },
     "execution_count": 26,
     "metadata": {},
     "output_type": "execute_result"
    }
   ],
   "source": [
    "top_five_increase_7 = value_change_7.iloc[-6:-1,1]\n",
    "top_five_increase_7"
   ]
  },
  {
   "cell_type": "markdown",
   "metadata": {},
   "source": [
    "###  Data visualization of changes in coin value over 24 hours and 7 days."
   ]
  },
  {
   "cell_type": "code",
   "execution_count": 27,
   "metadata": {},
   "outputs": [
    {
     "data": {
      "image/png": "[encoded data removed]",
      "text/plain": [
       "<Figure size 1080x648 with 4 Axes>"
      ]
     },
     "metadata": {
      "needs_background": "light"
     },
     "output_type": "display_data"
    }
   ],
   "source": [
    "fig = plt.figure(figsize=(15,9))\n",
    "fig.suptitle(\"Change in coin value\")\n",
    "fig.tight_layout(pad=1, w_pad=0.5, h_pad=1.0)\n",
    "ax1=fig.add_subplot(221)\n",
    "top_five_increase_24.plot(kind=\"bar\", color=\"red\", ax=ax1, sharey=True, title=\"Increase 24h\", rot=0)\n",
    "ax2=fig.add_subplot(222)\n",
    "top_five_decrease_24.plot(kind=\"bar\", color=\"green\", ax=ax2, sharey=True, title=\"Decrease 24h\", rot=0)\n",
    "ax3=fig.add_subplot(223)\n",
    "top_five_increase_7.plot(kind=\"bar\", color=\"yellow\", ax=ax3, sharey=True, title=\"Increase 7h\", rot=0)\n",
    "ax3=fig.add_subplot(224)\n",
    "top_five_decrease_7.plot(kind=\"bar\", color=\"blue\", ax=ax3, sharey=True,  title=\"Decrease 7h\", rot=0)\n",
    "\n",
    "plt.show()"
   ]
  },
  {
   "cell_type": "markdown",
   "metadata": {},
   "source": [
    "### Coins with a market cap greater than 5 billion"
   ]
  },
  {
   "cell_type": "code",
   "execution_count": 28,
   "metadata": {},
   "outputs": [
    {
     "data": {
      "text/html": [
       "<div>\n",
       "<style>\n",
       "    .dataframe thead tr:only-child th {\n",
       "        text-align: right;\n",
       "    }\n",
       "\n",
       "    .dataframe thead th {\n",
       "        text-align: left;\n",
       "    }\n",
       "\n",
       "    .dataframe tbody tr th {\n",
       "        vertical-align: top;\n",
       "    }\n",
       "</style>\n",
       "<table border=\"1\" class=\"dataframe\">\n",
       "  <thead>\n",
       "    <tr style=\"text-align: right;\">\n",
       "      <th></th>\n",
       "      <th>24h_volume_usd</th>\n",
       "      <th>available_supply</th>\n",
       "      <th>id</th>\n",
       "      <th>last_updated</th>\n",
       "      <th>market_cap_usd</th>\n",
       "      <th>name</th>\n",
       "      <th>percent_change_1h</th>\n",
       "      <th>percent_change_24h</th>\n",
       "      <th>percent_change_7d</th>\n",
       "      <th>price_btc</th>\n",
       "      <th>price_usd</th>\n",
       "      <th>rank</th>\n",
       "      <th>symbol</th>\n",
       "      <th>total_supply</th>\n",
       "    </tr>\n",
       "  </thead>\n",
       "  <tbody>\n",
       "    <tr>\n",
       "      <th>0</th>\n",
       "      <td>2.036243e+10</td>\n",
       "      <td>17738062</td>\n",
       "      <td>bitcoin</td>\n",
       "      <td>1559570190</td>\n",
       "      <td>150881996310</td>\n",
       "      <td>Bitcoin</td>\n",
       "      <td>-0.58</td>\n",
       "      <td>-2.57</td>\n",
       "      <td>-2.89</td>\n",
       "      <td>1.000000</td>\n",
       "      <td>8506.115060</td>\n",
       "      <td>1</td>\n",
       "      <td>BTC</td>\n",
       "      <td>17738062</td>\n",
       "    </tr>\n",
       "    <tr>\n",
       "      <th>1</th>\n",
       "      <td>8.862492e+09</td>\n",
       "      <td>106337344</td>\n",
       "      <td>ethereum</td>\n",
       "      <td>1559570242</td>\n",
       "      <td>27951621202</td>\n",
       "      <td>Ethereum</td>\n",
       "      <td>-0.56</td>\n",
       "      <td>-2.71</td>\n",
       "      <td>-2.24</td>\n",
       "      <td>0.031009</td>\n",
       "      <td>262.857996</td>\n",
       "      <td>2</td>\n",
       "      <td>ETH</td>\n",
       "      <td>106337344</td>\n",
       "    </tr>\n",
       "    <tr>\n",
       "      <th>2</th>\n",
       "      <td>2.321487e+09</td>\n",
       "      <td>42181995112</td>\n",
       "      <td>ripple</td>\n",
       "      <td>1559570225</td>\n",
       "      <td>18672945928</td>\n",
       "      <td>XRP</td>\n",
       "      <td>-1.12</td>\n",
       "      <td>0.36</td>\n",
       "      <td>6.49</td>\n",
       "      <td>0.000052</td>\n",
       "      <td>0.442676</td>\n",
       "      <td>3</td>\n",
       "      <td>XRP</td>\n",
       "      <td>99991617212</td>\n",
       "    </tr>\n",
       "    <tr>\n",
       "      <th>3</th>\n",
       "      <td>1.779191e+09</td>\n",
       "      <td>17817688</td>\n",
       "      <td>bitcoin-cash</td>\n",
       "      <td>1559570225</td>\n",
       "      <td>7657254225</td>\n",
       "      <td>Bitcoin Cash</td>\n",
       "      <td>-0.27</td>\n",
       "      <td>-3.39</td>\n",
       "      <td>-1.26</td>\n",
       "      <td>0.050698</td>\n",
       "      <td>429.755782</td>\n",
       "      <td>4</td>\n",
       "      <td>BCH</td>\n",
       "      <td>17817688</td>\n",
       "    </tr>\n",
       "    <tr>\n",
       "      <th>4</th>\n",
       "      <td>3.918325e+09</td>\n",
       "      <td>62060076</td>\n",
       "      <td>litecoin</td>\n",
       "      <td>1559570225</td>\n",
       "      <td>6950500679</td>\n",
       "      <td>Litecoin</td>\n",
       "      <td>-0.76</td>\n",
       "      <td>-2.47</td>\n",
       "      <td>-2.22</td>\n",
       "      <td>0.013212</td>\n",
       "      <td>111.996328</td>\n",
       "      <td>5</td>\n",
       "      <td>LTC</td>\n",
       "      <td>62060076</td>\n",
       "    </tr>\n",
       "    <tr>\n",
       "      <th>5</th>\n",
       "      <td>3.566270e+09</td>\n",
       "      <td>917587135</td>\n",
       "      <td>eos</td>\n",
       "      <td>1559570224</td>\n",
       "      <td>6726520327</td>\n",
       "      <td>EOS</td>\n",
       "      <td>-0.74</td>\n",
       "      <td>-6.01</td>\n",
       "      <td>1.22</td>\n",
       "      <td>0.000865</td>\n",
       "      <td>7.330661</td>\n",
       "      <td>6</td>\n",
       "      <td>EOS</td>\n",
       "      <td>1014287141</td>\n",
       "    </tr>\n",
       "  </tbody>\n",
       "</table>\n",
       "</div>"
      ],
      "text/plain": [
       "   24h_volume_usd  available_supply            id  last_updated  \\\n",
       "0    2.036243e+10          17738062       bitcoin    1559570190   \n",
       "1    8.862492e+09         106337344      ethereum    1559570242   \n",
       "2    2.321487e+09       42181995112        ripple    1559570225   \n",
       "3    1.779191e+09          17817688  bitcoin-cash    1559570225   \n",
       "4    3.918325e+09          62060076      litecoin    1559570225   \n",
       "5    3.566270e+09         917587135           eos    1559570224   \n",
       "\n",
       "   market_cap_usd          name  percent_change_1h  percent_change_24h  \\\n",
       "0    150881996310       Bitcoin              -0.58               -2.57   \n",
       "1     27951621202      Ethereum              -0.56               -2.71   \n",
       "2     18672945928           XRP              -1.12                0.36   \n",
       "3      7657254225  Bitcoin Cash              -0.27               -3.39   \n",
       "4      6950500679      Litecoin              -0.76               -2.47   \n",
       "5      6726520327           EOS              -0.74               -6.01   \n",
       "\n",
       "   percent_change_7d  price_btc    price_usd  rank symbol  total_supply  \n",
       "0              -2.89   1.000000  8506.115060     1    BTC      17738062  \n",
       "1              -2.24   0.031009   262.857996     2    ETH     106337344  \n",
       "2               6.49   0.000052     0.442676     3    XRP   99991617212  \n",
       "3              -1.26   0.050698   429.755782     4    BCH      17817688  \n",
       "4              -2.22   0.013212   111.996328     5    LTC      62060076  \n",
       "5               1.22   0.000865     7.330661     6    EOS    1014287141  "
      ]
     },
     "execution_count": 28,
     "metadata": {},
     "output_type": "execute_result"
    }
   ],
   "source": [
    "# Selecting everything bigger than 5 billion \n",
    "big_coins = current_coin.query('market_cap_usd > 5000000000')\n",
    "\n",
    "# Printing out largecaps\n",
    "big_coins\n",
    "\n"
   ]
  },
  {
   "cell_type": "code",
   "execution_count": 29,
   "metadata": {},
   "outputs": [
    {
     "data": {
      "image/png": "[encoded data removed]",
      "text/plain": [
       "<Figure size 1008x288 with 2 Axes>"
      ]
     },
     "metadata": {
      "needs_background": "light"
     },
     "output_type": "display_data"
    }
   ],
   "source": [
    "fig=plt.figure(figsize=(14,4))\n",
    "fig.tight_layout()\n",
    "fig.suptitle(\"Big six coins with a market cap greater than 5 billions\")\n",
    "ax1 =fig.add_subplot(121)\n",
    "big_coins.plot(x=\"id\", y=\"market_cap_usd\", kind=\"bar\", legend=False, color=[\"yellow\", \"red\"], ax=ax1,\n",
    "               title=\"billions - absolute\")\n",
    "ax2=fig.add_subplot(122)\n",
    "big_coins.plot(x=\"id\", y=\"market_cap_usd\", kind=\"bar\", legend=False, color=[\"pink\", \"lightblue\"], logy=True, ax=ax2,\n",
    "               title=\"logarithmic scale\")\n",
    "plt.show()"
   ]
  },
  {
   "cell_type": "markdown",
   "metadata": {},
   "source": [
    "###  T-shirt sizes: L, M, S of coins"
   ]
  },
  {
   "cell_type": "code",
   "execution_count": 30,
   "metadata": {},
   "outputs": [
    {
     "name": "stdout",
     "output_type": "stream",
     "text": [
      "150881996310\n",
      "58408839\n"
     ]
    }
   ],
   "source": [
    "print(current_coin['market_cap_usd'].max())\n",
    "print(current_coin['market_cap_usd'].min())"
   ]
  },
  {
   "cell_type": "code",
   "execution_count": 31,
   "metadata": {},
   "outputs": [],
   "source": [
    "current_coin['market_cap_label'] = \"T-Shirt-Size\""
   ]
  },
  {
   "cell_type": "code",
   "execution_count": 32,
   "metadata": {},
   "outputs": [],
   "source": [
    "marketcap = current_coin['market_cap_usd'] \n",
    "current_coin['market_cap_label'] = \"T-Shirt-Size\"\n",
    "\n",
    "for i,value in enumerate(marketcap):\n",
    "    # greater than five hundred million\n",
    "    if value >= 900000000:  \n",
    "        current_coin.loc[i, 'market_cap_label'] = \"L\"\n",
    "    elif value >= 90000000 and value  < 900000000:\n",
    "        current_coin.loc[i, 'market_cap_label'] = \"M\"\n",
    "    elif value < 90000000:\n",
    "        current_coin.loc[i, 'market_cap_label'] = \"S\"\n",
    "        "
   ]
  },
  {
   "cell_type": "code",
   "execution_count": 33,
   "metadata": {},
   "outputs": [
    {
     "data": {
      "text/plain": [
       "0    L\n",
       "1    L\n",
       "2    L\n",
       "3    L\n",
       "4    L\n",
       "5    L\n",
       "Name: market_cap_label, dtype: object"
      ]
     },
     "execution_count": 33,
     "metadata": {},
     "output_type": "execute_result"
    }
   ],
   "source": [
    "current_coin.loc[0:5,'market_cap_label']"
   ]
  },
  {
   "cell_type": "code",
   "execution_count": 34,
   "metadata": {},
   "outputs": [
    {
     "name": "stdout",
     "output_type": "stream",
     "text": [
      "M    59\n",
      "S    23\n",
      "L    18\n",
      "Name: market_cap_label, dtype: int64\n"
     ]
    },
    {
     "data": {
      "text/html": [
       "<div>\n",
       "<style>\n",
       "    .dataframe thead tr:only-child th {\n",
       "        text-align: right;\n",
       "    }\n",
       "\n",
       "    .dataframe thead th {\n",
       "        text-align: left;\n",
       "    }\n",
       "\n",
       "    .dataframe tbody tr th {\n",
       "        vertical-align: top;\n",
       "    }\n",
       "</style>\n",
       "<table border=\"1\" class=\"dataframe\">\n",
       "  <thead>\n",
       "    <tr style=\"text-align: right;\">\n",
       "      <th></th>\n",
       "      <th>id</th>\n",
       "      <th>market_cap_usd</th>\n",
       "      <th>market_cap_label</th>\n",
       "    </tr>\n",
       "  </thead>\n",
       "  <tbody>\n",
       "    <tr>\n",
       "      <th>0</th>\n",
       "      <td>bitcoin</td>\n",
       "      <td>150881996310</td>\n",
       "      <td>L</td>\n",
       "    </tr>\n",
       "    <tr>\n",
       "      <th>1</th>\n",
       "      <td>ethereum</td>\n",
       "      <td>27951621202</td>\n",
       "      <td>L</td>\n",
       "    </tr>\n",
       "    <tr>\n",
       "      <th>2</th>\n",
       "      <td>ripple</td>\n",
       "      <td>18672945928</td>\n",
       "      <td>L</td>\n",
       "    </tr>\n",
       "    <tr>\n",
       "      <th>3</th>\n",
       "      <td>bitcoin-cash</td>\n",
       "      <td>7657254225</td>\n",
       "      <td>L</td>\n",
       "    </tr>\n",
       "    <tr>\n",
       "      <th>4</th>\n",
       "      <td>litecoin</td>\n",
       "      <td>6950500679</td>\n",
       "      <td>L</td>\n",
       "    </tr>\n",
       "  </tbody>\n",
       "</table>\n",
       "</div>"
      ],
      "text/plain": [
       "             id  market_cap_usd market_cap_label\n",
       "0       bitcoin    150881996310                L\n",
       "1      ethereum     27951621202                L\n",
       "2        ripple     18672945928                L\n",
       "3  bitcoin-cash      7657254225                L\n",
       "4      litecoin      6950500679                L"
      ]
     },
     "execution_count": 34,
     "metadata": {},
     "output_type": "execute_result"
    }
   ],
   "source": [
    "# current_coin.columns\n",
    "coins_tshirt_labels=current_coin[['id', 'market_cap_usd', 'market_cap_label']]\n",
    "print(coins_tshirt_labels['market_cap_label'].value_counts())\n",
    "coins_tshirt_labels.head()\n"
   ]
  },
  {
   "cell_type": "markdown",
   "metadata": {},
   "source": [
    "According to the above definition 18 are large, and 61 are medium and 21 small."
   ]
  },
  {
   "cell_type": "code",
   "execution_count": 35,
   "metadata": {},
   "outputs": [
    {
     "data": {
      "text/plain": [
       "<matplotlib.axes._subplots.AxesSubplot at 0x1af7591ef98>"
      ]
     },
     "execution_count": 35,
     "metadata": {},
     "output_type": "execute_result"
    },
    {
     "data": {
      "image/png": "[encoded data removed]",
      "text/plain": [
       "<Figure size 432x288 with 1 Axes>"
      ]
     },
     "metadata": {
      "needs_background": "light"
     },
     "output_type": "display_data"
    }
   ],
   "source": [
    "coins_tshirt_labels['market_cap_label'].value_counts().plot(kind=\"bar\", title=\"Coins according to t-shirt size\")"
   ]
  },
  {
   "cell_type": "code",
   "execution_count": null,
   "metadata": {},
   "outputs": [],
   "source": []
  }
 ],
 "metadata": {
  "kernelspec": {
   "display_name": "Python 3",
   "language": "python",
   "name": "python3"
  },
  "language_info": {
   "codemirror_mode": {
    "name": "ipython",
    "version": 3
   },
   "file_extension": ".py",
   "mimetype": "text/x-python",
   "name": "python",
   "nbconvert_exporter": "python",
   "pygments_lexer": "ipython3",
   "version": "3.6.8"
  }
 },
 "nbformat": 4,
 "nbformat_minor": 2
}
